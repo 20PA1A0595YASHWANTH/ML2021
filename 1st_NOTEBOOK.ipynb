{
  "nbformat": 4,
  "nbformat_minor": 0,
  "metadata": {
    "colab": {
      "name": "1st NOTEBOOK",
      "provenance": [],
      "authorship_tag": "ABX9TyMmlh6eRGb3w+Tmdn++OrLK",
      "include_colab_link": true
    },
    "kernelspec": {
      "name": "python3",
      "display_name": "Python 3"
    },
    "language_info": {
      "name": "python"
    }
  },
  "cells": [
    {
      "cell_type": "markdown",
      "metadata": {
        "id": "view-in-github",
        "colab_type": "text"
      },
      "source": [
        "<a href=\"https://colab.research.google.com/github/20PA1A0595YASHWANTH/ML2021/blob/main/1st_NOTEBOOK.ipynb\" target=\"_parent\"><img src=\"https://colab.research.google.com/assets/colab-badge.svg\" alt=\"Open In Colab\"/></a>"
      ]
    },
    {
      "cell_type": "code",
      "metadata": {
        "colab": {
          "base_uri": "https://localhost:8080/"
        },
        "id": "RFd5ijoCGhXw",
        "outputId": "6b30c5a1-0b83-4967-df55-811340c01bcd"
      },
      "source": [
        "list=[1,2,3,4,5,6,7,8]\n",
        "for i in list:\n",
        "  if(i%2==0):\n",
        "    print(i,end=\" \")"
      ],
      "execution_count": null,
      "outputs": [
        {
          "output_type": "stream",
          "text": [
            "2 4 6 8 "
          ],
          "name": "stdout"
        }
      ]
    },
    {
      "cell_type": "markdown",
      "metadata": {
        "id": "5IUwOuq5KUcm"
      },
      "source": [
        "#Checking even numbers in a list\n",
        "elements were stored in a list and iterating loop for every element and writing a condition to check whether the element is divisible by 2 or not. If it is divisible by 2 then we are printing the number"
      ]
    },
    {
      "cell_type": "code",
      "metadata": {
        "colab": {
          "base_uri": "https://localhost:8080/"
        },
        "id": "JhoZhSoYHup-",
        "outputId": "6dbab3d3-6c3c-4942-de09-127db4b86f4b"
      },
      "source": [
        "a=[]\n",
        "for i in range(1,101):\n",
        "  count=0\n",
        "  for j in range(1,i+1):\n",
        "    if(i%j==0):\n",
        "      count+=1\n",
        "  if(count==2):\n",
        "    a.append(i)\n",
        "print(a,end=' ')"
      ],
      "execution_count": null,
      "outputs": [
        {
          "output_type": "stream",
          "text": [
            "[2, 3, 5, 7, 11, 13, 17, 19, 23, 29, 31, 37, 41, 43, 47, 53, 59, 61, 67, 71, 73, 79, 83, 89, 97] "
          ],
          "name": "stdout"
        }
      ]
    },
    {
      "cell_type": "markdown",
      "metadata": {
        "id": "GJQufxMkJPOT"
      },
      "source": [
        "#Prime numbers from 1 to 100\n",
        "checking if the number is divisible by 1 and itself and appending the number to a list and printing the list"
      ]
    },
    {
      "cell_type": "code",
      "metadata": {
        "colab": {
          "base_uri": "https://localhost:8080/"
        },
        "id": "x6YaGtUYJodi",
        "outputId": "8c0cd278-a1eb-4563-da12-f50939ddea87"
      },
      "source": [
        "from math import factorial\n",
        "n=int(input())\n",
        "print(factorial(n))"
      ],
      "execution_count": null,
      "outputs": [
        {
          "output_type": "stream",
          "text": [
            "5\n",
            "120\n"
          ],
          "name": "stdout"
        }
      ]
    },
    {
      "cell_type": "markdown",
      "metadata": {
        "id": "G7ML4DSvKDv_"
      },
      "source": [
        "#Factorial of a given number\n",
        "importing factorial from math gives the factorial of a number we entered"
      ]
    },
    {
      "cell_type": "code",
      "metadata": {
        "id": "PBAVaOVZKPGT"
      },
      "source": [
        ""
      ],
      "execution_count": null,
      "outputs": []
    }
  ]
}